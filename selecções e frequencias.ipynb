{
 "cells": [
  {
   "cell_type": "markdown",
   "id": "3b58b855",
   "metadata": {},
   "source": [
    "# relatorio de analise 4"
   ]
  },
  {
   "cell_type": "markdown",
   "id": "0cc46132",
   "metadata": {},
   "source": [
    "## selecoes e frequencias"
   ]
  },
  {
   "cell_type": "code",
   "execution_count": 1,
   "id": "c7f6843e",
   "metadata": {},
   "outputs": [],
   "source": [
    "import pandas as pd "
   ]
  },
  {
   "cell_type": "code",
   "execution_count": 2,
   "id": "03b7d9ba",
   "metadata": {},
   "outputs": [],
   "source": [
    "dados = pd.read_csv('dados/aluguel_residencial.csv', sep = ';')"
   ]
  },
  {
   "cell_type": "code",
   "execution_count": 3,
   "id": "bd1d02ea",
   "metadata": {},
   "outputs": [],
   "source": [
    "#Selecione somente os imóveis classificados com tipo 'Apartamento'.\n",
    "\n",
    "selecao = dados['Tipo'] == 'Apartamento'"
   ]
  },
  {
   "cell_type": "code",
   "execution_count": 4,
   "id": "b9abfbf0",
   "metadata": {},
   "outputs": [
    {
     "data": {
      "text/plain": [
       "0        False\n",
       "1        False\n",
       "2         True\n",
       "3         True\n",
       "4         True\n",
       "5         True\n",
       "6        False\n",
       "7        False\n",
       "8         True\n",
       "9         True\n",
       "10        True\n",
       "11        True\n",
       "12       False\n",
       "13        True\n",
       "14       False\n",
       "15        True\n",
       "16        True\n",
       "17        True\n",
       "18       False\n",
       "19        True\n",
       "20        True\n",
       "21        True\n",
       "22        True\n",
       "23        True\n",
       "24       False\n",
       "25        True\n",
       "26        True\n",
       "27        True\n",
       "28        True\n",
       "29        True\n",
       "         ...  \n",
       "22550     True\n",
       "22551     True\n",
       "22552     True\n",
       "22553     True\n",
       "22554     True\n",
       "22555    False\n",
       "22556     True\n",
       "22557     True\n",
       "22558    False\n",
       "22559     True\n",
       "22560     True\n",
       "22561     True\n",
       "22562     True\n",
       "22563     True\n",
       "22564     True\n",
       "22565     True\n",
       "22566     True\n",
       "22567     True\n",
       "22568     True\n",
       "22569    False\n",
       "22570     True\n",
       "22571     True\n",
       "22572     True\n",
       "22573     True\n",
       "22574    False\n",
       "22575     True\n",
       "22576    False\n",
       "22577     True\n",
       "22578     True\n",
       "22579     True\n",
       "Name: Tipo, Length: 22580, dtype: bool"
      ]
     },
     "execution_count": 4,
     "metadata": {},
     "output_type": "execute_result"
    }
   ],
   "source": [
    "selecao"
   ]
  },
  {
   "cell_type": "code",
   "execution_count": 11,
   "id": "144527f3",
   "metadata": {},
   "outputs": [],
   "source": [
    "n1 = dados [selecao].shape[0]"
   ]
  },
  {
   "cell_type": "code",
   "execution_count": 12,
   "id": "60bf2a0f",
   "metadata": {},
   "outputs": [
    {
     "data": {
      "text/plain": [
       "19532"
      ]
     },
     "execution_count": 12,
     "metadata": {},
     "output_type": "execute_result"
    }
   ],
   "source": [
    "n1"
   ]
  },
  {
   "cell_type": "code",
   "execution_count": 13,
   "id": "bf904ba2",
   "metadata": {},
   "outputs": [
    {
     "data": {
      "text/plain": [
       "19532"
      ]
     },
     "execution_count": 13,
     "metadata": {},
     "output_type": "execute_result"
    }
   ],
   "source": [
    "n1"
   ]
  },
  {
   "cell_type": "code",
   "execution_count": 14,
   "id": "60ae7b51",
   "metadata": {},
   "outputs": [
    {
     "data": {
      "text/plain": [
       "2212"
      ]
     },
     "execution_count": 14,
     "metadata": {},
     "output_type": "execute_result"
    }
   ],
   "source": [
    "#Selecione os imóveis classificados com tipos 'Casa', 'Casa de Condomínio' e 'Casa de Vila'.\n",
    "selecao = (dados['Tipo'] == 'Casa')| (dados['Tipo'] =='Casa de Condomínio') |(dados['Tipo'] =='Casa de Vila')\n",
    "n2=dados[selecao].shape[0]\n",
    "n2"
   ]
  },
  {
   "cell_type": "code",
   "execution_count": 15,
   "id": "d669ae49",
   "metadata": {},
   "outputs": [
    {
     "data": {
      "text/plain": [
       "8719"
      ]
     },
     "execution_count": 15,
     "metadata": {},
     "output_type": "execute_result"
    }
   ],
   "source": [
    "#Selecione os imóveis com área entre 60 e 100 metros quadrados, incluindo os limites.\n",
    "selecao=(dados['Area'] >=60) & (dados['Area'] <=100)\n",
    "n3 = dados[selecao].shape[0]\n",
    "n3"
   ]
  },
  {
   "cell_type": "code",
   "execution_count": 16,
   "id": "8e878158",
   "metadata": {},
   "outputs": [
    {
     "data": {
      "text/plain": [
       "41"
      ]
     },
     "execution_count": 16,
     "metadata": {},
     "output_type": "execute_result"
    }
   ],
   "source": [
    "#Selecione os imóveis que tenham pelo menos 4 quartos e aluguel menor que R$ 2.000,00.\n",
    "selecao=(dados['Quartos'] >=4) & (dados['Valor'] <2000)\n",
    "n4 = dados[selecao].shape[0]\n",
    "n4"
   ]
  },
  {
   "cell_type": "code",
   "execution_count": 17,
   "id": "8b7f101f",
   "metadata": {
    "scrolled": false
   },
   "outputs": [
    {
     "name": "stdout",
     "output_type": "stream",
     "text": [
      " 'Apartamento' -> 19532\n",
      " 'Casa', 'Casa de Condomínio' e 'Casa de Vila'-> 2212\n",
      " área entre 60 e 100 metros quadrados -> 8719\n",
      " 4 quartos e aluguel menor que R$ 2.000,00-> 41\n"
     ]
    }
   ],
   "source": [
    "print(\" 'Apartamento' -> {}\" .format(n1)) \n",
    "\n",
    "print(\" 'Casa', 'Casa de Condomínio' e 'Casa de Vila'-> {}\" .format(n2)) \n",
    "\n",
    "print(\" área entre 60 e 100 metros quadrados -> {}\" .format(n3)) \n",
    "\n",
    "print(\" 4 quartos e aluguel menor que R$ 2.000,00-> {}\" .format(n4)) "
   ]
  },
  {
   "cell_type": "code",
   "execution_count": 18,
   "id": "37056b60",
   "metadata": {},
   "outputs": [],
   "source": [
    "import pandas as pd\n",
    "alunos = pd.DataFrame({'Nome': ['Ary', 'Cátia', 'Denis', 'Beto', 'Bruna', 'Dara', 'Carlos', 'Alice'], \n",
    "                        'Sexo': ['M', 'F', 'M', 'M', 'F', 'F', 'M', 'F'], \n",
    "                        'Idade': [15, 27, 56, 32, 42, 21, 19, 35], \n",
    "                        'Notas': [7.5, 2.5, 5.0, 10, 8.2, 7, 6, 5.6], \n",
    "                        'Aprovado': [True, False, False, True, True, True, False, False]}, \n",
    "                        columns = ['Nome', 'Idade', 'Sexo', 'Notas', 'Aprovado'])"
   ]
  },
  {
   "cell_type": "code",
   "execution_count": 19,
   "id": "1f3890f1",
   "metadata": {},
   "outputs": [
    {
     "data": {
      "text/html": [
       "<div>\n",
       "<style scoped>\n",
       "    .dataframe tbody tr th:only-of-type {\n",
       "        vertical-align: middle;\n",
       "    }\n",
       "\n",
       "    .dataframe tbody tr th {\n",
       "        vertical-align: top;\n",
       "    }\n",
       "\n",
       "    .dataframe thead th {\n",
       "        text-align: right;\n",
       "    }\n",
       "</style>\n",
       "<table border=\"1\" class=\"dataframe\">\n",
       "  <thead>\n",
       "    <tr style=\"text-align: right;\">\n",
       "      <th></th>\n",
       "      <th>Nome</th>\n",
       "      <th>Idade</th>\n",
       "      <th>Sexo</th>\n",
       "      <th>Notas</th>\n",
       "      <th>Aprovado</th>\n",
       "    </tr>\n",
       "  </thead>\n",
       "  <tbody>\n",
       "    <tr>\n",
       "      <th>0</th>\n",
       "      <td>Ary</td>\n",
       "      <td>15</td>\n",
       "      <td>M</td>\n",
       "      <td>7.5</td>\n",
       "      <td>True</td>\n",
       "    </tr>\n",
       "    <tr>\n",
       "      <th>1</th>\n",
       "      <td>Cátia</td>\n",
       "      <td>27</td>\n",
       "      <td>F</td>\n",
       "      <td>2.5</td>\n",
       "      <td>False</td>\n",
       "    </tr>\n",
       "    <tr>\n",
       "      <th>2</th>\n",
       "      <td>Denis</td>\n",
       "      <td>56</td>\n",
       "      <td>M</td>\n",
       "      <td>5.0</td>\n",
       "      <td>False</td>\n",
       "    </tr>\n",
       "    <tr>\n",
       "      <th>3</th>\n",
       "      <td>Beto</td>\n",
       "      <td>32</td>\n",
       "      <td>M</td>\n",
       "      <td>10.0</td>\n",
       "      <td>True</td>\n",
       "    </tr>\n",
       "    <tr>\n",
       "      <th>4</th>\n",
       "      <td>Bruna</td>\n",
       "      <td>42</td>\n",
       "      <td>F</td>\n",
       "      <td>8.2</td>\n",
       "      <td>True</td>\n",
       "    </tr>\n",
       "    <tr>\n",
       "      <th>5</th>\n",
       "      <td>Dara</td>\n",
       "      <td>21</td>\n",
       "      <td>F</td>\n",
       "      <td>7.0</td>\n",
       "      <td>True</td>\n",
       "    </tr>\n",
       "    <tr>\n",
       "      <th>6</th>\n",
       "      <td>Carlos</td>\n",
       "      <td>19</td>\n",
       "      <td>M</td>\n",
       "      <td>6.0</td>\n",
       "      <td>False</td>\n",
       "    </tr>\n",
       "    <tr>\n",
       "      <th>7</th>\n",
       "      <td>Alice</td>\n",
       "      <td>35</td>\n",
       "      <td>F</td>\n",
       "      <td>5.6</td>\n",
       "      <td>False</td>\n",
       "    </tr>\n",
       "  </tbody>\n",
       "</table>\n",
       "</div>"
      ],
      "text/plain": [
       "     Nome  Idade Sexo  Notas  Aprovado\n",
       "0     Ary     15    M    7.5      True\n",
       "1   Cátia     27    F    2.5     False\n",
       "2   Denis     56    M    5.0     False\n",
       "3    Beto     32    M   10.0      True\n",
       "4   Bruna     42    F    8.2      True\n",
       "5    Dara     21    F    7.0      True\n",
       "6  Carlos     19    M    6.0     False\n",
       "7   Alice     35    F    5.6     False"
      ]
     },
     "execution_count": 19,
     "metadata": {},
     "output_type": "execute_result"
    }
   ],
   "source": [
    "alunos"
   ]
  },
  {
   "cell_type": "code",
   "execution_count": 20,
   "id": "3bd3d745",
   "metadata": {},
   "outputs": [
    {
     "data": {
      "text/html": [
       "<div>\n",
       "<style scoped>\n",
       "    .dataframe tbody tr th:only-of-type {\n",
       "        vertical-align: middle;\n",
       "    }\n",
       "\n",
       "    .dataframe tbody tr th {\n",
       "        vertical-align: top;\n",
       "    }\n",
       "\n",
       "    .dataframe thead th {\n",
       "        text-align: right;\n",
       "    }\n",
       "</style>\n",
       "<table border=\"1\" class=\"dataframe\">\n",
       "  <thead>\n",
       "    <tr style=\"text-align: right;\">\n",
       "      <th></th>\n",
       "      <th>Nome</th>\n",
       "      <th>Idade</th>\n",
       "      <th>Sexo</th>\n",
       "      <th>Notas</th>\n",
       "      <th>Aprovado</th>\n",
       "    </tr>\n",
       "  </thead>\n",
       "  <tbody>\n",
       "    <tr>\n",
       "      <th>0</th>\n",
       "      <td>Ary</td>\n",
       "      <td>15</td>\n",
       "      <td>M</td>\n",
       "      <td>7.5</td>\n",
       "      <td>True</td>\n",
       "    </tr>\n",
       "    <tr>\n",
       "      <th>3</th>\n",
       "      <td>Beto</td>\n",
       "      <td>32</td>\n",
       "      <td>M</td>\n",
       "      <td>10.0</td>\n",
       "      <td>True</td>\n",
       "    </tr>\n",
       "    <tr>\n",
       "      <th>4</th>\n",
       "      <td>Bruna</td>\n",
       "      <td>42</td>\n",
       "      <td>F</td>\n",
       "      <td>8.2</td>\n",
       "      <td>True</td>\n",
       "    </tr>\n",
       "    <tr>\n",
       "      <th>5</th>\n",
       "      <td>Dara</td>\n",
       "      <td>21</td>\n",
       "      <td>F</td>\n",
       "      <td>7.0</td>\n",
       "      <td>True</td>\n",
       "    </tr>\n",
       "  </tbody>\n",
       "</table>\n",
       "</div>"
      ],
      "text/plain": [
       "    Nome  Idade Sexo  Notas  Aprovado\n",
       "0    Ary     15    M    7.5      True\n",
       "3   Beto     32    M   10.0      True\n",
       "4  Bruna     42    F    8.2      True\n",
       "5   Dara     21    F    7.0      True"
      ]
     },
     "execution_count": 20,
     "metadata": {},
     "output_type": "execute_result"
    }
   ],
   "source": [
    "selecao = alunos['Aprovado'] == True\n",
    "aprovados = alunos [selecao]\n",
    "aprovados\n"
   ]
  },
  {
   "cell_type": "code",
   "execution_count": 21,
   "id": "3740d778",
   "metadata": {},
   "outputs": [
    {
     "data": {
      "text/html": [
       "<div>\n",
       "<style scoped>\n",
       "    .dataframe tbody tr th:only-of-type {\n",
       "        vertical-align: middle;\n",
       "    }\n",
       "\n",
       "    .dataframe tbody tr th {\n",
       "        vertical-align: top;\n",
       "    }\n",
       "\n",
       "    .dataframe thead th {\n",
       "        text-align: right;\n",
       "    }\n",
       "</style>\n",
       "<table border=\"1\" class=\"dataframe\">\n",
       "  <thead>\n",
       "    <tr style=\"text-align: right;\">\n",
       "      <th></th>\n",
       "      <th>Nome</th>\n",
       "      <th>Idade</th>\n",
       "      <th>Sexo</th>\n",
       "      <th>Notas</th>\n",
       "      <th>Aprovado</th>\n",
       "    </tr>\n",
       "  </thead>\n",
       "  <tbody>\n",
       "    <tr>\n",
       "      <th>4</th>\n",
       "      <td>Bruna</td>\n",
       "      <td>42</td>\n",
       "      <td>F</td>\n",
       "      <td>8.2</td>\n",
       "      <td>True</td>\n",
       "    </tr>\n",
       "    <tr>\n",
       "      <th>5</th>\n",
       "      <td>Dara</td>\n",
       "      <td>21</td>\n",
       "      <td>F</td>\n",
       "      <td>7.0</td>\n",
       "      <td>True</td>\n",
       "    </tr>\n",
       "  </tbody>\n",
       "</table>\n",
       "</div>"
      ],
      "text/plain": [
       "    Nome  Idade Sexo  Notas  Aprovado\n",
       "4  Bruna     42    F    8.2      True\n",
       "5   Dara     21    F    7.0      True"
      ]
     },
     "execution_count": 21,
     "metadata": {},
     "output_type": "execute_result"
    }
   ],
   "source": [
    "selecao = (alunos['Aprovado'] == True) & (alunos['Sexo'] == 'F')\n",
    "MeninasAprovadas = alunos [selecao]\n",
    "MeninasAprovadas"
   ]
  },
  {
   "cell_type": "code",
   "execution_count": 22,
   "id": "db248a34",
   "metadata": {},
   "outputs": [
    {
     "data": {
      "text/html": [
       "<div>\n",
       "<style scoped>\n",
       "    .dataframe tbody tr th:only-of-type {\n",
       "        vertical-align: middle;\n",
       "    }\n",
       "\n",
       "    .dataframe tbody tr th {\n",
       "        vertical-align: top;\n",
       "    }\n",
       "\n",
       "    .dataframe thead th {\n",
       "        text-align: right;\n",
       "    }\n",
       "</style>\n",
       "<table border=\"1\" class=\"dataframe\">\n",
       "  <thead>\n",
       "    <tr style=\"text-align: right;\">\n",
       "      <th></th>\n",
       "      <th>Nome</th>\n",
       "      <th>Idade</th>\n",
       "      <th>Sexo</th>\n",
       "      <th>Notas</th>\n",
       "      <th>Aprovado</th>\n",
       "    </tr>\n",
       "  </thead>\n",
       "  <tbody>\n",
       "    <tr>\n",
       "      <th>0</th>\n",
       "      <td>Ary</td>\n",
       "      <td>15</td>\n",
       "      <td>M</td>\n",
       "      <td>7.5</td>\n",
       "      <td>True</td>\n",
       "    </tr>\n",
       "    <tr>\n",
       "      <th>2</th>\n",
       "      <td>Denis</td>\n",
       "      <td>56</td>\n",
       "      <td>M</td>\n",
       "      <td>5.0</td>\n",
       "      <td>False</td>\n",
       "    </tr>\n",
       "    <tr>\n",
       "      <th>4</th>\n",
       "      <td>Bruna</td>\n",
       "      <td>42</td>\n",
       "      <td>F</td>\n",
       "      <td>8.2</td>\n",
       "      <td>True</td>\n",
       "    </tr>\n",
       "    <tr>\n",
       "      <th>6</th>\n",
       "      <td>Carlos</td>\n",
       "      <td>19</td>\n",
       "      <td>M</td>\n",
       "      <td>6.0</td>\n",
       "      <td>False</td>\n",
       "    </tr>\n",
       "  </tbody>\n",
       "</table>\n",
       "</div>"
      ],
      "text/plain": [
       "     Nome  Idade Sexo  Notas  Aprovado\n",
       "0     Ary     15    M    7.5      True\n",
       "2   Denis     56    M    5.0     False\n",
       "4   Bruna     42    F    8.2      True\n",
       "6  Carlos     19    M    6.0     False"
      ]
     },
     "execution_count": 22,
     "metadata": {},
     "output_type": "execute_result"
    }
   ],
   "source": [
    "selecao = ((alunos.Idade > 10) &  (alunos.Idade < 20)) | (alunos.Idade >= 40)\n",
    "alunos[selecao]"
   ]
  },
  {
   "cell_type": "code",
   "execution_count": null,
   "id": "d774c567",
   "metadata": {},
   "outputs": [],
   "source": []
  },
  {
   "cell_type": "code",
   "execution_count": null,
   "id": "f54bf39f",
   "metadata": {},
   "outputs": [],
   "source": []
  },
  {
   "cell_type": "code",
   "execution_count": null,
   "id": "dd864c6f",
   "metadata": {},
   "outputs": [],
   "source": []
  }
 ],
 "metadata": {
  "kernelspec": {
   "display_name": "Python 3",
   "language": "python",
   "name": "python3"
  },
  "language_info": {
   "codemirror_mode": {
    "name": "ipython",
    "version": 3
   },
   "file_extension": ".py",
   "mimetype": "text/x-python",
   "name": "python",
   "nbconvert_exporter": "python",
   "pygments_lexer": "ipython3",
   "version": "3.6.13"
  }
 },
 "nbformat": 4,
 "nbformat_minor": 5
}
